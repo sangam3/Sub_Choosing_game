{
  "nbformat": 4,
  "nbformat_minor": 0,
  "metadata": {
    "colab": {
      "name": "Topic_Decision_Game.ipynb",
      "provenance": [],
      "authorship_tag": "ABX9TyPUyJyl/UHu0TQUYUoVwdZc",
      "include_colab_link": true
    },
    "kernelspec": {
      "name": "python3",
      "display_name": "Python 3"
    },
    "language_info": {
      "name": "python"
    }
  },
  "cells": [
    {
      "cell_type": "markdown",
      "metadata": {
        "id": "view-in-github",
        "colab_type": "text"
      },
      "source": [
        "<a href=\"https://colab.research.google.com/github/sangam3/Sub_Choosing_game/blob/main/Topic_Decision_Game.ipynb\" target=\"_parent\"><img src=\"https://colab.research.google.com/assets/colab-badge.svg\" alt=\"Open In Colab\"/></a>"
      ]
    },
    {
      "cell_type": "markdown",
      "metadata": {
        "id": "IF_INVpwVNJq"
      },
      "source": [
        ""
      ]
    },
    {
      "cell_type": "code",
      "metadata": {
        "colab": {
          "base_uri": "https://localhost:8080/"
        },
        "id": "EPpJ4fa8ai9-",
        "outputId": "b9a97fc1-244a-4bf9-ffdc-421a08344625"
      },
      "source": [
        "#importing random to get an object \n",
        "import random as rd\n",
        "\n",
        "#Creating a list holding all the topics\n",
        "mylist= [\"Electrical Engineering\", \"Computer Engineering\",\"Softwares\",\"General Science\",\"Reasoning & Apptitite\",\"Math\",\"English\"]\n",
        "# storing random topic from list into variable\n",
        "x = rd.choice(mylist)\n",
        "print(x)\n",
        "\n",
        "# applying condition to get detail from the topics\n",
        "if x == mylist[0]:\n",
        "  EE = [\"Lower\",\"Higher\"]\n",
        "  sub1 = rd.choice(EE)\n",
        "  print(sub1)\n",
        "\n",
        "elif x == mylist[1]:\n",
        "  CE = [\"Python\",\"C\",\"C++\",\"Java Script\",\"MATLAB\"]\n",
        "  sub2 = rd.choice(CE)\n",
        "  print(sub2)\n",
        "\n",
        "elif x == mylist[2]:\n",
        "  SF = [\"MATLAB\",\"SCADA\"]\n",
        "  sub3 = rd.choice(SF)\n",
        "  print(sub3)\n",
        "\n",
        "elif x == mylist[3]:\n",
        "  GS = [\"HP GK\",\"IND GK\",\"INT GK\",\"Cureent Affair\",]\n",
        "  sub4 = rd.choice(GS)\n",
        "  print(sub4)\n",
        "\n",
        "elif x == mylist[4]:\n",
        "  RA = [\"Reasoning\",\"Apptitude\",\"Self Development\"]\n",
        "  sub5 = rd.choice(RA)\n",
        "  print(sub5)\n",
        "\n",
        "elif x == mylist[5]:\n",
        "  M = [\"+10\",\"+12\"]\n",
        "  sub6 = rd.choice(M)\n",
        "  print(sub6)\n",
        "\n",
        "else:\n",
        "  print(mylist[6])\n",
        "#Conditions Ended\n",
        "\n",
        "#printing motivation Quotes\n",
        "print(\"Time is precious so stop wasting it..\\n you stupid guy\")"
      ],
      "execution_count": 35,
      "outputs": [
        {
          "output_type": "stream",
          "text": [
            "Reasoning & Apptitite\n",
            "Reasoning\n",
            "Time is precious so stop wasting it..\n",
            " you stupid guy\n"
          ],
          "name": "stdout"
        }
      ]
    },
    {
      "cell_type": "code",
      "metadata": {
        "id": "iz1zT-sZdeFA"
      },
      "source": [
        "\n"
      ],
      "execution_count": null,
      "outputs": []
    }
  ]
}